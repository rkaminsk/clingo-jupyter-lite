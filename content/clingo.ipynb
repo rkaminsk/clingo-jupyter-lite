{
  "metadata": {
    "kernelspec": {
      "name": "python",
      "display_name": "Python (Pyodide)",
      "language": "python"
    },
    "language_info": {
      "codemirror_mode": {
        "name": "python",
        "version": 3
      },
      "file_extension": ".py",
      "mimetype": "text/x-python",
      "name": "python",
      "nbconvert_exporter": "python",
      "pygments_lexer": "ipython3",
      "version": "3.8"
    }
  },
  "nbformat_minor": 4,
  "nbformat": 4,
  "cells": [
    {
      "cell_type": "markdown",
      "source": "# Simple Example Using the Clingo Module",
      "metadata": {}
    },
    {
      "cell_type": "code",
      "source": "import cffi\nimport clingo\nfrom clingo.control import Control\n\ndef run_clingo(args, files):\n    print(f\"clingo version {clingo.__version__}\")\n    ctl = Control(args, logger=lambda c, m: print(m))\n   \n    n = 0\n    def on_model(m):\n        nonlocal n\n        n += 1\n        print(f\"Answer: {n}\")\n        print(\" \".join(str(sym) for sym in m.symbols(shown=True)))\n\n    print(\"Reading...\")\n    for file in files:\n        ctl.load(file)\n        \n    print(\"Grounding...\")\n    ctl.ground()\n    \n    print(\"Solving...\")\n    ret = ctl.solve(on_model=on_model)\n    if ret.satisfiable:\n        print(\"SATISFIABLE\")\n    if ret.unsatisfiable:\n        print(\"UNSATISFIABLE\")\n    \n    summary = ctl.statistics['summary']\n    print()\n    print(f\"Models       : {int(summary['models']['enumerated'])}\")\n    print(f\"Calls        : {int(summary['call'] + 1)}\")\n    print(f\"Time         : {summary['times']['total']:.3f}s\")",
      "metadata": {
        "trusted": true
      },
      "outputs": [],
      "execution_count": 1
    },
    {
      "cell_type": "code",
      "source": "with open(\"test.lp\", \"w\") as fp:\n    fp.write(\"\"\"\\\n{a}.\na :- b.\n{c; d}.\n:- not 2 { a; b; c; d }.\n\"\"\")",
      "metadata": {
        "trusted": true
      },
      "outputs": [],
      "execution_count": 5
    },
    {
      "cell_type": "code",
      "source": "run_clingo([\"0\"], [\"test.lp\"])",
      "metadata": {
        "trusted": true
      },
      "outputs": [
        {
          "name": "stdout",
          "text": "clingo version 5.7.1\nReading...\nGrounding...\ntest.lp:2:6-7: info: atom does not occur in any rule head:\n  b\n\ntest.lp:4:15-16: info: atom does not occur in any rule head:\n  b\n\nSolving...\nAnswer: 1\nc d\nAnswer: 2\na d\nAnswer: 3\na c d\nAnswer: 4\na c\nSATISFIABLE\n\nModels       : 4\nCalls        : 1\nTime         : 0.099s\n",
          "output_type": "stream"
        }
      ],
      "execution_count": 6
    },
    {
      "cell_type": "code",
      "source": "",
      "metadata": {
        "trusted": true
      },
      "outputs": [],
      "execution_count": null
    }
  ]
}