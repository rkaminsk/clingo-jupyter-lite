{
  "metadata": {
    "language_info": {
      "codemirror_mode": {
        "name": "python",
        "version": 3
      },
      "file_extension": ".py",
      "mimetype": "text/x-python",
      "name": "python",
      "nbconvert_exporter": "python",
      "pygments_lexer": "ipython3",
      "version": "3.8"
    },
    "kernelspec": {
      "name": "python",
      "display_name": "Python (Pyodide)",
      "language": "python"
    }
  },
  "nbformat_minor": 4,
  "nbformat": 4,
  "cells": [
    {
      "cell_type": "markdown",
      "source": "# Simple Example Using the Clingo Module",
      "metadata": {}
    },
    {
      "cell_type": "code",
      "source": "import clingo\nfrom clingo.control import Control\n\ndef run_clingo(args, files):\n    print(f\"clingo version {clingo.__version__}\")\n    ctl = Control(args, logger=lambda c, m: print(m))\n   \n    n = 0\n    def on_model(m):\n        nonlocal n\n        n += 1\n        print(f\"Answer: {n}\")\n        print(\" \".join(str(sym) for sym in m.symbols(shown=True)))\n\n    print(\"Reading...\")\n    for file in files:\n        ctl.load(file)\n        \n    print(\"Grounding...\")\n    ctl.ground()\n    \n    print(\"Solving...\")\n    ret = ctl.solve(on_model=on_model)\n    if ret.satisfiable:\n        print(\"SATISFIABLE\")\n    if ret.unsatisfiable:\n        print(\"UNSATISFIABLE\")\n    \n    summary = ctl.statistics['summary']\n    print()\n    print(f\"Models       : {int(summary['models']['enumerated'])}\")\n    print(f\"Calls        : {int(summary['call'] + 1)}\")\n    print(f\"Time         : {summary['times']['total']:.3f}\")",
      "metadata": {
        "trusted": true
      },
      "execution_count": 1,
      "outputs": []
    },
    {
      "cell_type": "code",
      "source": "with open(\"test.lp\", \"w\") as hnd:\n    hnd.write(\"1 { a; b }. c :- d.\\n\")\n        \nrun_clingo([\"0\"], [\"test.lp\"])",
      "metadata": {
        "trusted": true
      },
      "execution_count": 2,
      "outputs": [
        {
          "name": "stdout",
          "text": "clingo version 5.6.1\nReading...\nGrounding...\ntest.lp:1:18-19: info: atom does not occur in any rule head:\n  d\n\nSolving...\nAnswer: 1\na\nAnswer: 2\nb\nAnswer: 3\na b\nSATISFIABLE\n\nModels       : 3\nCalls        : 1\nTime         : 0.079\n",
          "output_type": "stream"
        }
      ]
    },
    {
      "cell_type": "code",
      "source": "",
      "metadata": {},
      "execution_count": null,
      "outputs": []
    }
  ]
}